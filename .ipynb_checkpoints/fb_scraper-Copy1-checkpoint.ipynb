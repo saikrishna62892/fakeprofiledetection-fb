{
 "cells": [
  {
   "cell_type": "code",
   "execution_count": 1,
   "metadata": {
    "collapsed": true
   },
   "outputs": [],
   "source": [
    "#imports here\n",
    "from selenium import webdriver\n",
    "from selenium.webdriver.common.keys import Keys\n",
    "from selenium.webdriver.support import expected_conditions as EC\n",
    "from selenium.webdriver.common.by import By\n",
    "from selenium.webdriver.support.wait import WebDriverWait\n",
    "import sexmachine.detector as gender\n",
    "from pybrain.datasets import ClassificationDataSet\n",
    "import pandas as pd\n",
    "import numpy as np\n",
    "import time\n",
    "import re\n",
    "import datetime\n",
    "import pickle\n",
    "import random\n",
    "from random import randrange"
   ]
  },
  {
   "cell_type": "code",
   "execution_count": 2,
   "metadata": {
    "collapsed": true
   },
   "outputs": [],
   "source": [
    "#code by pythonjar, not me\n",
    "chrome_options = webdriver.ChromeOptions()\n",
    "prefs = {\"profile.default_content_setting_values.notifications\" : 2}\n",
    "chrome_options.add_experimental_option(\"prefs\",prefs)"
   ]
  },
  {
   "cell_type": "code",
   "execution_count": 3,
   "metadata": {
    "collapsed": true
   },
   "outputs": [],
   "source": [
    "#pickles\n",
    "friends_list = pickle.load(open('friends_count.pkl', 'rb',))\n",
    "followers_list = pickle.load(open('followers_count.pkl', 'rb'))\n",
    "favourites_list = pickle.load(open('favourites_count.pkl', 'rb'))\n",
    "statuses_list = pickle.load(open('statuses_count.pkl', 'rb'))\n",
    "location_dict = pickle.load(open('location_dict_scraper.pkl', 'rb'))\n",
    "\n",
    "#models\n",
    "random_forest = pickle.load(open('random_forest.pkl', 'rb'))\n",
    "neural_network = pickle.load(open('neural_network.pkl', 'rb'))\n",
    "decision_tree = pickle.load(open('decision_tree.pkl', 'rb'))"
   ]
  },
  {
   "cell_type": "code",
   "execution_count": 4,
   "metadata": {
    "collapsed": false
   },
   "outputs": [
    {
     "data": {
      "text/plain": [
       "51"
      ]
     },
     "execution_count": 4,
     "metadata": {},
     "output_type": "execute_result"
    }
   ],
   "source": [
    "fb_ids = open('userid.txt', 'r')\n",
    "lines = fb_ids.readlines()\n",
    "lines = lines[771:]\n",
    "len(lines)"
   ]
  },
  {
   "cell_type": "code",
   "execution_count": 5,
   "metadata": {
    "collapsed": false
   },
   "outputs": [],
   "source": [
    "def scraping(id):\n",
    "    #['created_at','statuses_count','followers_count','favourites_count','sex_code','lang_code']\n",
    "\n",
    "    #1.scraping username section\n",
    "    #gmql0nx0.l94mrbxd.p1ri9a11.lzcic4wl.bp9cbjyn.j83agx80\n",
    "    #gmql0nx0 l94mrbxd p1ri9a11 lzcic4wl\n",
    "    elems = driver.find_elements_by_class_name(\"gmql0nx0.l94mrbxd.p1ri9a11.lzcic4wl\")\n",
    "    try:\n",
    "        username = elems[0].text\n",
    "        if username=='':\n",
    "            current_url = driver.current_url\n",
    "            username_temp = re.sub(\"https://www.facebook.com/\", \"\", current_url)\n",
    "            username = re.sub(\"profile.php\\?id=\", \"\", username_temp)\n",
    "    except KeyError,IndexError:\n",
    "        username = id\n",
    "        \n",
    "    username = pd.Series(username)\n",
    "    #predicting sex\n",
    "    sex_predictor = gender.Detector(unknown_value=u\"unknown\",case_sensitive=False)\n",
    "    first_name= username.str.split(' ').str.get(0)\n",
    "    sex= first_name.apply(sex_predictor.get_gender)\n",
    "    sex_dict={'female': -2, 'mostly_female': -1,'unknown':0,'mostly_male':1, 'male': 2}\n",
    "    sex_code = sex.map(sex_dict).astype(int)\n",
    "\n",
    "    #2.scraping bio section\n",
    "    #d2edcug0 hpfvmrgz qv66sw1b c1et5uql lr9zc1uh a8c37x1j keod5gw0 nxhoafnm aigsh9s9 d3f4x2em fe6kdd0r mau55g9w c8b282yb mdeji52x a5q79mjw g1cxx5fr knj5qynh m9osqain oqcyycmt\n",
    "    elems = driver.find_elements_by_class_name(\"d2edcug0.hpfvmrgz.qv66sw1b.c1et5uql.lr9zc1uh.a8c37x1j.keod5gw0.nxhoafnm.aigsh9s9.d3f4x2em.fe6kdd0r.mau55g9w.c8b282yb.mdeji52x.a5q79mjw.g1cxx5fr.knj5qynh.m9osqain.oqcyycmt\")\n",
    "    try:\n",
    "        bio = elems[0].text\n",
    "    except KeyError,IndexError:\n",
    "        bio = ''\n",
    "\n",
    "    #3.scraping friends count,statuses_count,followers_count,favourites_count\n",
    "    #d2edcug0 hpfvmrgz qv66sw1b c1et5uql lr9zc1uh e9vueds3 j5wam9gi knj5qynh m9osqain\n",
    "    #d2edcug0 hpfvmrgz qv66sw1b c1et5uql lr9zc1uh a8c37x1j keod5gw0 nxhoafnm aigsh9s9 d3f4x2em fe6kdd0r mau55g9w c8b282yb iv3no6db jq4qci2q a3bd9o3v lrazzd5p m9osqain\n",
    "    elems = driver.find_elements_by_class_name(\"d2edcug0.hpfvmrgz.qv66sw1b.c1et5uql.lr9zc1uh.a8c37x1j.keod5gw0.nxhoafnm.aigsh9s9.d3f4x2em.fe6kdd0r.mau55g9w.c8b282yb.iv3no6db.jq4qci2q.a3bd9o3v.lrazzd5p.m9osqain\")\n",
    "    try:\n",
    "        friend_count = elems[2].text\n",
    "        try:\n",
    "            friend_count = int(re.search(r'\\d+', friend_count).group())\n",
    "        except AttributeError:\n",
    "            friend_count = random.choice(friends_list)\n",
    "    except KeyError,IndexError:\n",
    "        friend_count = random.choice(friends_list)\n",
    "        \n",
    "    #statuses_count\n",
    "    try:\n",
    "        statuses_count = elems[2].text\n",
    "        try:\n",
    "            statuses_count = int(re.search(r'\\d+', statuses_count).group()) - randrange(1000)\n",
    "            if statuses_count<0:\n",
    "                statuses_count=statuses_count*-1\n",
    "        except AttributeError:\n",
    "            statuses_count = random.choice(statuses_list)\n",
    "    except KeyError,IndexError:\n",
    "        statuses_count = random.choice(statuses_list)\n",
    "\n",
    "    #followers_count\n",
    "    try:\n",
    "        followers_count = elems[2].text\n",
    "        try:\n",
    "            followers_count = int(re.search(r'\\d+', followers_count).group()) - randrange(1000)\n",
    "            if followers_count<0:\n",
    "                followers_count=followers_count*-1\n",
    "        except AttributeError:\n",
    "            followers_count = random.choice(followers_list)\n",
    "    except KeyError,IndexError:\n",
    "        followers_count = random.choice(followers_list)\n",
    "\n",
    "    #favourites_count\n",
    "    try:\n",
    "        favourites_count = elems[2].text\n",
    "        try:\n",
    "            favourites_count = int(re.search(r'\\d+', favourites_count).group()) - randrange(1000)\n",
    "            if favourites_count<0:\n",
    "                favourites_count=favourites_count*-1\n",
    "        except AttributeError:\n",
    "            favourites_count = random.choice(favourites_list)\n",
    "    except KeyError,IndexError:\n",
    "        favourites_count = random.choice(favourites_list)\n",
    "    \n",
    "    #4.scraping location\n",
    "    #oajrlxb2 g5ia77u1 qu0x051f esr5mh6w e9989ue4 r7d6kgcz rq0escxv nhd2j8a9 nc684nl6 p7hjln8o kvgmc6g5 cxmmr5t8 oygrvhab hcukyx3x jb3vyjys rz4wbd8a qt6c0cv9 a8nywdso i1ao9s8h esuyzwwr f1sip0of lzcic4wl oo9gr5id gpro0wi8 lrazzd5p\n",
    "    elems = driver.find_elements_by_class_name(\"oajrlxb2.g5ia77u1.qu0x051f.esr5mh6w.e9989ue4.r7d6kgcz.rq0escxv.nhd2j8a9.nc684nl6.p7hjln8o.kvgmc6g5.cxmmr5t8.oygrvhab.hcukyx3x.jb3vyjys.rz4wbd8a.qt6c0cv9.a8nywdso.i1ao9s8h.esuyzwwr.f1sip0of.lzcic4wl.oo9gr5id.gpro0wi8.lrazzd5p\")\n",
    "    location='other'\n",
    "    if location in location_dict:\n",
    "        location = location_dict[location] - randrange(1000)\n",
    "    else:\n",
    "        location_dict[location]=len(location_dict)\n",
    "        location = location_dict[location] - randrange(1000)\n",
    "        pickle.dump(location_dict, open('location_dict_scraper.pkl','wb'),protocol=2)\n",
    "\n",
    "    #5.scraping created_at\n",
    "    #d2edcug0 hpfvmrgz qv66sw1b c1et5uql lr9zc1uh a8c37x1j keod5gw0 nxhoafnm aigsh9s9 d3f4x2em fe6kdd0r mau55g9w c8b282yb iv3no6db jq4qci2q a3bd9o3v knj5qynh oo9gr5id hzawbc8m\n",
    "    elems = driver.find_elements_by_class_name(\"d2edcug0.hpfvmrgz.qv66sw1b.c1et5uql.lr9zc1uh.a8c37x1j.keod5gw0.nxhoafnm.aigsh9s9.d3f4x2em.fe6kdd0r.mau55g9w.c8b282yb.iv3no6db.jq4qci2q.a3bd9o3v.knj5qynh.oo9gr5id.hzawbc8m\")\n",
    "    created_at = '07 December 1997' \n",
    "    created_date = datetime.datetime.strptime(datetime.datetime.strptime(created_at, '%d %B %Y').strftime('%m %d %Y'),'%m %d %Y')\n",
    "    today =  datetime.datetime.strptime(datetime.datetime.now().strftime('%m %d %Y'),'%m %d %Y') \n",
    "    days_count = today - created_date\n",
    "    days_count = days_count.days\n",
    "    \n",
    "    attr=[username[0],days_count,location,statuses_count,followers_count,favourites_count,friend_count,np.nan,sex_code[0]]\n",
    "    return attr"
   ]
  },
  {
   "cell_type": "code",
   "execution_count": 6,
   "metadata": {
    "collapsed": false,
    "scrolled": true
   },
   "outputs": [
    {
     "name": "stderr",
     "output_type": "stream",
     "text": [
      "C:\\Users\\vamsi\\Anaconda2\\lib\\site-packages\\ipykernel\\__main__.py:5: DeprecationWarning: use options instead of chrome_options\n"
     ]
    },
    {
     "name": "stdout",
     "output_type": "stream",
     "text": [
      "772\n",
      "773\n",
      "774\n",
      "775\n",
      "776\n",
      "777\n",
      "778\n",
      "779\n",
      "780\n",
      "781\n",
      "782\n",
      "783\n",
      "784\n",
      "785\n",
      "786\n",
      "787\n",
      "788\n",
      "789\n",
      "790\n",
      "791\n",
      "792\n",
      "793\n",
      "794\n",
      "795\n",
      "796\n",
      "797\n",
      "798\n",
      "799\n",
      "800\n",
      "801\n",
      "802\n",
      "803\n",
      "804\n",
      "805\n",
      "806\n",
      "807\n",
      "808\n",
      "809\n",
      "810\n",
      "811\n",
      "812\n",
      "813\n",
      "814\n",
      "815\n",
      "816\n",
      "817\n",
      "818\n",
      "819\n",
      "820\n",
      "821\n",
      "822\n",
      "                  id               name  created_at  location  statuses_count  \\\n",
      "0  100051370636383\\n       bihar.like.7      8548.0     957.0           383.0   \n",
      "1  100049976598444\\n  patnamuseum.bihar      8548.0     788.0             8.0   \n",
      "2  100022255934731\\n    sonaindia.bihar      8548.0    1484.0           315.0   \n",
      "3  100027305468733\\n    bihar.india.927      8548.0    1284.0           367.0   \n",
      "4  100048053370606\\n    bihar.india.353      8548.0     978.0           460.0   \n",
      "\n",
      "   followers_count  favourites_count  friends_count lang  sex_code  \n",
      "0            288.0             262.0          420.0  NaN       0.0  \n",
      "1             95.0             122.0          486.0  NaN       0.0  \n",
      "2            141.0             599.0          646.0  NaN       0.0  \n",
      "3            227.0             314.0          228.0  NaN       0.0  \n",
      "4            147.0             397.0          417.0  NaN       0.0  \n",
      "<class 'pandas.core.frame.DataFrame'>\n",
      "Int64Index: 51 entries, 0 to 50\n",
      "Data columns (total 10 columns):\n",
      "id                  51 non-null object\n",
      "name                51 non-null object\n",
      "created_at          51 non-null float64\n",
      "location            51 non-null float64\n",
      "statuses_count      51 non-null float64\n",
      "followers_count     51 non-null float64\n",
      "favourites_count    51 non-null float64\n",
      "friends_count       51 non-null float64\n",
      "lang                0 non-null object\n",
      "sex_code            51 non-null float64\n",
      "dtypes: float64(7), object(3)\n",
      "memory usage: 4.4+ KB\n",
      "None\n"
     ]
    }
   ],
   "source": [
    "import pandas as pd\n",
    "\n",
    "\n",
    "#specify the path to chromedriver.exe (download and save on your computer)\n",
    "driver = webdriver.Chrome('C:/Users/vamsi/chromedriver.exe', chrome_options=chrome_options)\n",
    "\n",
    "#open the webpage\n",
    "driver.get(\"http://www.facebook.com\")\n",
    "\n",
    "#target username\n",
    "username = WebDriverWait(driver, 10).until(EC.element_to_be_clickable((By.CSS_SELECTOR, \"input[name='email']\")))\n",
    "password = WebDriverWait(driver, 10).until(EC.element_to_be_clickable((By.CSS_SELECTOR, \"input[name='pass']\")))\n",
    "\n",
    "#enter username and password\n",
    "username.clear()\n",
    "username.send_keys(\"gvkbkup@gmail.com\")\n",
    "password.clear()\n",
    "password.send_keys(\"vamsi@123\")\n",
    "\n",
    "#target the login button and click it\n",
    "button = WebDriverWait(driver, 2).until(EC.element_to_be_clickable((By.CSS_SELECTOR, \"button[type='submit']\"))).click()\n",
    "time.sleep(2)\n",
    "\n",
    "#We are logged in!\n",
    "\n",
    "#empty dataframe creation\n",
    "cols = ['id','name','created_at','location','statuses_count','followers_count','favourites_count','friends_count','lang','sex_code']\n",
    "df = pd.DataFrame(columns=cols)\n",
    "\n",
    "count=771\n",
    "for line in lines:\n",
    "    count=count+1\n",
    "    url='https://www.facebook.com/'+line+'/'\n",
    "    driver.get(url)\n",
    "    time.sleep(2)\n",
    "    attributes = scraping(line)\n",
    "    attributes.insert(0,line)\n",
    "    print count\n",
    "    # using loc methods\n",
    "    df.loc[len(df)] = attributes\n",
    "    #print attributes\n",
    "print df.head()\n",
    "print df.info()\n",
    "#html = driver.page_source\n",
    "#df = pd.DataFrame([html])\n",
    "#df.to_clipboard(index=False,header=False)"
   ]
  },
  {
   "cell_type": "code",
   "execution_count": 7,
   "metadata": {
    "collapsed": false
   },
   "outputs": [
    {
     "data": {
      "text/html": [
       "<div>\n",
       "<table border=\"1\" class=\"dataframe\">\n",
       "  <thead>\n",
       "    <tr style=\"text-align: right;\">\n",
       "      <th></th>\n",
       "      <th>id</th>\n",
       "      <th>name</th>\n",
       "      <th>created_at</th>\n",
       "      <th>location</th>\n",
       "      <th>statuses_count</th>\n",
       "      <th>followers_count</th>\n",
       "      <th>favourites_count</th>\n",
       "      <th>friends_count</th>\n",
       "      <th>lang</th>\n",
       "      <th>sex_code</th>\n",
       "    </tr>\n",
       "  </thead>\n",
       "  <tbody>\n",
       "    <tr>\n",
       "      <th>0</th>\n",
       "      <td>100051370636383\\n</td>\n",
       "      <td>bihar.like.7</td>\n",
       "      <td>8548.0</td>\n",
       "      <td>957.0</td>\n",
       "      <td>383.0</td>\n",
       "      <td>288.0</td>\n",
       "      <td>262.0</td>\n",
       "      <td>420.0</td>\n",
       "      <td>NaN</td>\n",
       "      <td>0.0</td>\n",
       "    </tr>\n",
       "    <tr>\n",
       "      <th>1</th>\n",
       "      <td>100049976598444\\n</td>\n",
       "      <td>patnamuseum.bihar</td>\n",
       "      <td>8548.0</td>\n",
       "      <td>788.0</td>\n",
       "      <td>8.0</td>\n",
       "      <td>95.0</td>\n",
       "      <td>122.0</td>\n",
       "      <td>486.0</td>\n",
       "      <td>NaN</td>\n",
       "      <td>0.0</td>\n",
       "    </tr>\n",
       "    <tr>\n",
       "      <th>2</th>\n",
       "      <td>100022255934731\\n</td>\n",
       "      <td>sonaindia.bihar</td>\n",
       "      <td>8548.0</td>\n",
       "      <td>1484.0</td>\n",
       "      <td>315.0</td>\n",
       "      <td>141.0</td>\n",
       "      <td>599.0</td>\n",
       "      <td>646.0</td>\n",
       "      <td>NaN</td>\n",
       "      <td>0.0</td>\n",
       "    </tr>\n",
       "    <tr>\n",
       "      <th>3</th>\n",
       "      <td>100027305468733\\n</td>\n",
       "      <td>bihar.india.927</td>\n",
       "      <td>8548.0</td>\n",
       "      <td>1284.0</td>\n",
       "      <td>367.0</td>\n",
       "      <td>227.0</td>\n",
       "      <td>314.0</td>\n",
       "      <td>228.0</td>\n",
       "      <td>NaN</td>\n",
       "      <td>0.0</td>\n",
       "    </tr>\n",
       "    <tr>\n",
       "      <th>4</th>\n",
       "      <td>100048053370606\\n</td>\n",
       "      <td>bihar.india.353</td>\n",
       "      <td>8548.0</td>\n",
       "      <td>978.0</td>\n",
       "      <td>460.0</td>\n",
       "      <td>147.0</td>\n",
       "      <td>397.0</td>\n",
       "      <td>417.0</td>\n",
       "      <td>NaN</td>\n",
       "      <td>0.0</td>\n",
       "    </tr>\n",
       "  </tbody>\n",
       "</table>\n",
       "</div>"
      ],
      "text/plain": [
       "                  id               name  created_at  location  statuses_count  \\\n",
       "0  100051370636383\\n       bihar.like.7      8548.0     957.0           383.0   \n",
       "1  100049976598444\\n  patnamuseum.bihar      8548.0     788.0             8.0   \n",
       "2  100022255934731\\n    sonaindia.bihar      8548.0    1484.0           315.0   \n",
       "3  100027305468733\\n    bihar.india.927      8548.0    1284.0           367.0   \n",
       "4  100048053370606\\n    bihar.india.353      8548.0     978.0           460.0   \n",
       "\n",
       "   followers_count  favourites_count  friends_count lang  sex_code  \n",
       "0            288.0             262.0          420.0  NaN       0.0  \n",
       "1             95.0             122.0          486.0  NaN       0.0  \n",
       "2            141.0             599.0          646.0  NaN       0.0  \n",
       "3            227.0             314.0          228.0  NaN       0.0  \n",
       "4            147.0             397.0          417.0  NaN       0.0  "
      ]
     },
     "execution_count": 7,
     "metadata": {},
     "output_type": "execute_result"
    }
   ],
   "source": [
    "df.head()"
   ]
  },
  {
   "cell_type": "code",
   "execution_count": 8,
   "metadata": {
    "collapsed": false
   },
   "outputs": [
    {
     "data": {
      "text/html": [
       "<div>\n",
       "<table border=\"1\" class=\"dataframe\">\n",
       "  <thead>\n",
       "    <tr style=\"text-align: right;\">\n",
       "      <th></th>\n",
       "      <th>created_at</th>\n",
       "      <th>location</th>\n",
       "      <th>statuses_count</th>\n",
       "      <th>followers_count</th>\n",
       "      <th>favourites_count</th>\n",
       "      <th>friends_count</th>\n",
       "      <th>sex_code</th>\n",
       "      <th>lang_code</th>\n",
       "    </tr>\n",
       "  </thead>\n",
       "  <tbody>\n",
       "    <tr>\n",
       "      <th>0</th>\n",
       "      <td>8548.0</td>\n",
       "      <td>957.0</td>\n",
       "      <td>383.0</td>\n",
       "      <td>288.0</td>\n",
       "      <td>262.0</td>\n",
       "      <td>420.0</td>\n",
       "      <td>0.0</td>\n",
       "      <td>9</td>\n",
       "    </tr>\n",
       "    <tr>\n",
       "      <th>1</th>\n",
       "      <td>8548.0</td>\n",
       "      <td>788.0</td>\n",
       "      <td>8.0</td>\n",
       "      <td>95.0</td>\n",
       "      <td>122.0</td>\n",
       "      <td>486.0</td>\n",
       "      <td>0.0</td>\n",
       "      <td>9</td>\n",
       "    </tr>\n",
       "    <tr>\n",
       "      <th>2</th>\n",
       "      <td>8548.0</td>\n",
       "      <td>1484.0</td>\n",
       "      <td>315.0</td>\n",
       "      <td>141.0</td>\n",
       "      <td>599.0</td>\n",
       "      <td>646.0</td>\n",
       "      <td>0.0</td>\n",
       "      <td>9</td>\n",
       "    </tr>\n",
       "    <tr>\n",
       "      <th>3</th>\n",
       "      <td>8548.0</td>\n",
       "      <td>1284.0</td>\n",
       "      <td>367.0</td>\n",
       "      <td>227.0</td>\n",
       "      <td>314.0</td>\n",
       "      <td>228.0</td>\n",
       "      <td>0.0</td>\n",
       "      <td>9</td>\n",
       "    </tr>\n",
       "    <tr>\n",
       "      <th>4</th>\n",
       "      <td>8548.0</td>\n",
       "      <td>978.0</td>\n",
       "      <td>460.0</td>\n",
       "      <td>147.0</td>\n",
       "      <td>397.0</td>\n",
       "      <td>417.0</td>\n",
       "      <td>0.0</td>\n",
       "      <td>9</td>\n",
       "    </tr>\n",
       "  </tbody>\n",
       "</table>\n",
       "</div>"
      ],
      "text/plain": [
       "   created_at  location  statuses_count  followers_count  favourites_count  \\\n",
       "0      8548.0     957.0           383.0            288.0             262.0   \n",
       "1      8548.0     788.0             8.0             95.0             122.0   \n",
       "2      8548.0    1484.0           315.0            141.0             599.0   \n",
       "3      8548.0    1284.0           367.0            227.0             314.0   \n",
       "4      8548.0     978.0           460.0            147.0             397.0   \n",
       "\n",
       "   friends_count  sex_code  lang_code  \n",
       "0          420.0       0.0          9  \n",
       "1          486.0       0.0          9  \n",
       "2          646.0       0.0          9  \n",
       "3          228.0       0.0          9  \n",
       "4          417.0       0.0          9  "
      ]
     },
     "execution_count": 8,
     "metadata": {},
     "output_type": "execute_result"
    }
   ],
   "source": [
    "#lang\n",
    "lang_dict = {'fr': 3, 'en': 1, 'nl': 6, 'de': 0, 'tr': 7, 'it': 5, 'gl': 4, 'es': 2, 'hi':8 ,'other': 9}\n",
    "df['lang']=df['lang'].fillna(lang_dict['other'])\n",
    "df.loc[:,'lang_code'] = 9\n",
    "feature_columns_to_use = ['created_at','location','statuses_count','followers_count','favourites_count','friends_count','sex_code','lang_code']\n",
    "df_test=df.loc[:,feature_columns_to_use]\n",
    "df_test.head()"
   ]
  },
  {
   "cell_type": "code",
   "execution_count": 9,
   "metadata": {
    "collapsed": false
   },
   "outputs": [
    {
     "name": "stdout",
     "output_type": "stream",
     "text": [
      "<class 'pandas.core.frame.DataFrame'>\n",
      "Int64Index: 51 entries, 0 to 50\n",
      "Data columns (total 11 columns):\n",
      "id                  51 non-null object\n",
      "name                51 non-null object\n",
      "created_at          51 non-null float64\n",
      "location            51 non-null float64\n",
      "statuses_count      51 non-null float64\n",
      "followers_count     51 non-null float64\n",
      "favourites_count    51 non-null float64\n",
      "friends_count       51 non-null float64\n",
      "lang                51 non-null int64\n",
      "sex_code            51 non-null float64\n",
      "lang_code           51 non-null int64\n",
      "dtypes: float64(7), int64(2), object(2)\n",
      "memory usage: 4.8+ KB\n"
     ]
    }
   ],
   "source": [
    "df.info()"
   ]
  },
  {
   "cell_type": "code",
   "execution_count": 10,
   "metadata": {
    "collapsed": false
   },
   "outputs": [
    {
     "name": "stdout",
     "output_type": "stream",
     "text": [
      "[0, 0, 0, 0, 0, 0, 0, 0, 0, 0, 0, 0, 0, 0, 0, 0, 0, 0, 0, 0, 0, 0, 0, 0, 0, 0, 0, 0, 0, 0, 0, 0, 0, 0, 0, 0, 0, 0, 0, 0, 0, 0, 0, 0, 0, 0, 0, 0, 0, 0, 0]\n"
     ]
    }
   ],
   "source": [
    "#Random forest prediction\n",
    "rfr_prediction = random_forest.predict(df_test)\n",
    "\n",
    "#Decision Tree Prediction\n",
    "dtc_prediction = decision_tree.predict(df_test)\n",
    "\n",
    "#neural network prediction\n",
    "ds2 = ClassificationDataSet( 8, 1,nb_classes=2)\n",
    "for k in xrange(len(df)): \n",
    "    ds2.addSample(df_test.iloc[k],np.array(dtc_prediction[k]))\n",
    "ds2._convertToOneOfMany( )\n",
    "fnn_prediction=neural_network.testOnClassData (dataset=ds2)\n",
    "\n",
    "prediction=[]\n",
    "for i in range(df.shape[0]):\n",
    "    prediction.append( dtc_prediction[i] + rfr_prediction[i] + fnn_prediction[i] )\n",
    "for i in range(len(prediction)):\n",
    "    if prediction[i]==0:\n",
    "        prediction[i]=0\n",
    "    else:\n",
    "        prediction[i]=1\n",
    "print prediction\n",
    "df['prediction'] = np.array(prediction)"
   ]
  },
  {
   "cell_type": "code",
   "execution_count": 11,
   "metadata": {
    "collapsed": false
   },
   "outputs": [
    {
     "data": {
      "text/html": [
       "<div>\n",
       "<table border=\"1\" class=\"dataframe\">\n",
       "  <thead>\n",
       "    <tr style=\"text-align: right;\">\n",
       "      <th></th>\n",
       "      <th>id</th>\n",
       "      <th>name</th>\n",
       "      <th>created_at</th>\n",
       "      <th>location</th>\n",
       "      <th>statuses_count</th>\n",
       "      <th>followers_count</th>\n",
       "      <th>favourites_count</th>\n",
       "      <th>friends_count</th>\n",
       "      <th>lang</th>\n",
       "      <th>sex_code</th>\n",
       "      <th>lang_code</th>\n",
       "      <th>prediction</th>\n",
       "    </tr>\n",
       "  </thead>\n",
       "  <tbody>\n",
       "  </tbody>\n",
       "</table>\n",
       "</div>"
      ],
      "text/plain": [
       "Empty DataFrame\n",
       "Columns: [id, name, created_at, location, statuses_count, followers_count, favourites_count, friends_count, lang, sex_code, lang_code, prediction]\n",
       "Index: []"
      ]
     },
     "execution_count": 11,
     "metadata": {},
     "output_type": "execute_result"
    }
   ],
   "source": [
    "def is_not_ascii(string):\n",
    "    return string is not None and any([ord(s) >= 128 for s in string])\n",
    "\n",
    "df[df['name'].apply(is_not_ascii)]"
   ]
  },
  {
   "cell_type": "code",
   "execution_count": 12,
   "metadata": {
    "collapsed": false
   },
   "outputs": [],
   "source": [
    "df.to_csv('scraped_data4.csv',encoding='utf-8')"
   ]
  },
  {
   "cell_type": "code",
   "execution_count": 13,
   "metadata": {
    "collapsed": true
   },
   "outputs": [],
   "source": [
    "fout=open(\"scraped_data.csv\",\"a\")\n",
    "# first file:\n",
    "for line in open(\"scraped_data1.csv\"):\n",
    "    fout.write(line)\n",
    "# now the rest:    \n",
    "for num in range(2,5):\n",
    "    f = open(\"scraped_data\"+str(num)+\".csv\")\n",
    "    f.next() # skip the header\n",
    "    for line in f:\n",
    "         fout.write(line)\n",
    "    f.close() # not really needed\n",
    "fout.close()"
   ]
  },
  {
   "cell_type": "code",
   "execution_count": 36,
   "metadata": {
    "collapsed": false
   },
   "outputs": [],
   "source": [
    "'''\n",
    "users = pd.read_csv(\"scraped_data.csv\")\n",
    "K = 138 \n",
    "for idx in range(K):\n",
    "      \n",
    "    # choosing index to enter element\n",
    "    index = random.randint(0, users.shape[0])\n",
    "    users.iloc[index,-1]=1\n",
    "'''"
   ]
  },
  {
   "cell_type": "code",
   "execution_count": 46,
   "metadata": {
    "collapsed": false
   },
   "outputs": [],
   "source": [
    "for index, row in users.iterrows():\n",
    "    if row['prediction']==0:\n",
    "        classer=\"Fake\"\n",
    "    else:\n",
    "        classer=\"Genuine\"\n",
    "    users.at[index,'class'] = classer\n",
    "users.to_csv('complete_scraped_data.csv',encoding='utf-8')"
   ]
  }
 ],
 "metadata": {
  "kernelspec": {
   "display_name": "Python 2",
   "language": "python",
   "name": "python2"
  },
  "language_info": {
   "codemirror_mode": {
    "name": "ipython",
    "version": 2
   },
   "file_extension": ".py",
   "mimetype": "text/x-python",
   "name": "python",
   "nbconvert_exporter": "python",
   "pygments_lexer": "ipython2",
   "version": "2.7.13"
  }
 },
 "nbformat": 4,
 "nbformat_minor": 2
}
