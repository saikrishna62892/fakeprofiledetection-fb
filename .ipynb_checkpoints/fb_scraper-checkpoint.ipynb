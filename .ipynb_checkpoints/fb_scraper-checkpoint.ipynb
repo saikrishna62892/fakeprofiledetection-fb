{
 "cells": [
  {
   "cell_type": "code",
   "execution_count": 48,
   "metadata": {
    "collapsed": true
   },
   "outputs": [],
   "source": [
    "#imports here\n",
    "from selenium import webdriver\n",
    "from selenium.webdriver.common.keys import Keys\n",
    "from selenium.webdriver.support import expected_conditions as EC\n",
    "from selenium.webdriver.common.by import By\n",
    "from selenium.webdriver.support.wait import WebDriverWait\n",
    "import time\n",
    "import datetime\n",
    "import pickle"
   ]
  },
  {
   "cell_type": "code",
   "execution_count": 3,
   "metadata": {
    "collapsed": true
   },
   "outputs": [],
   "source": [
    "#code by pythonjar, not me\n",
    "chrome_options = webdriver.ChromeOptions()\n",
    "prefs = {\"profile.default_content_setting_values.notifications\" : 2}\n",
    "chrome_options.add_experimental_option(\"prefs\",prefs)"
   ]
  },
  {
   "cell_type": "code",
   "execution_count": 4,
   "metadata": {
    "collapsed": false
   },
   "outputs": [
    {
     "data": {
      "text/plain": [
       "\"\\nurl='https://www.facebook.com/saikrishna62892/'\\ndriver.get(url)\\ntime.sleep(2)\\nhtml = driver.page_source\\ndf = pd.DataFrame([html])\\ndf.to_clipboard(index=False,header=False)\\n\""
      ]
     },
     "execution_count": 4,
     "metadata": {},
     "output_type": "execute_result"
    }
   ],
   "source": [
    "'''\n",
    "url='https://www.facebook.com/saikrishna62892/'\n",
    "driver.get(url)\n",
    "time.sleep(2)\n",
    "html = driver.page_source\n",
    "df = pd.DataFrame([html])\n",
    "df.to_clipboard(index=False,header=False)\n",
    "'''"
   ]
  },
  {
   "cell_type": "code",
   "execution_count": 31,
   "metadata": {
    "collapsed": false
   },
   "outputs": [
    {
     "name": "stderr",
     "output_type": "stream",
     "text": [
      "C:\\Users\\vamsi\\Anaconda2\\lib\\site-packages\\ipykernel\\__main__.py:5: DeprecationWarning: use options instead of chrome_options\n"
     ]
    }
   ],
   "source": [
    "import pandas as pd\n",
    "\n",
    "\n",
    "#specify the path to chromedriver.exe (download and save on your computer)\n",
    "driver = webdriver.Chrome('C:/Users/vamsi/chromedriver.exe', chrome_options=chrome_options)\n",
    "\n",
    "#open the webpage\n",
    "driver.get(\"http://www.facebook.com\")\n",
    "\n",
    "#target username\n",
    "username = WebDriverWait(driver, 10).until(EC.element_to_be_clickable((By.CSS_SELECTOR, \"input[name='email']\")))\n",
    "password = WebDriverWait(driver, 10).until(EC.element_to_be_clickable((By.CSS_SELECTOR, \"input[name='pass']\")))\n",
    "\n",
    "#enter username and password\n",
    "username.clear()\n",
    "username.send_keys(\"9490461737\")\n",
    "password.clear()\n",
    "password.send_keys(\"Facebook@62892\")\n",
    "\n",
    "#target the login button and click it\n",
    "button = WebDriverWait(driver, 2).until(EC.element_to_be_clickable((By.CSS_SELECTOR, \"button[type='submit']\"))).click()\n",
    "time.sleep(10)\n",
    "\n",
    "#We are logged in!\n",
    "url='https://www.facebook.com/saikrishna62892/'\n",
    "driver.get(url)\n",
    "time.sleep(10)\n",
    "html = driver.page_source\n",
    "#df = pd.DataFrame([html])\n",
    "#df.to_clipboard(index=False,header=False)"
   ]
  },
  {
   "cell_type": "code",
   "execution_count": 50,
   "metadata": {
    "collapsed": false
   },
   "outputs": [
    {
     "ename": "TypeError",
     "evalue": "'protocol' is an invalid keyword argument for this function",
     "output_type": "error",
     "traceback": [
      "\u001b[0;31m---------------------------------------------------------------------------\u001b[0m",
      "\u001b[0;31mTypeError\u001b[0m                                 Traceback (most recent call last)",
      "\u001b[0;32m<ipython-input-50-33bc0eb1fc08>\u001b[0m in \u001b[0;36m<module>\u001b[0;34m()\u001b[0m\n\u001b[1;32m      1\u001b[0m \u001b[1;31m#pickles\u001b[0m\u001b[1;33m\u001b[0m\u001b[1;33m\u001b[0m\u001b[0m\n\u001b[0;32m----> 2\u001b[0;31m \u001b[0mfriends_list\u001b[0m \u001b[1;33m=\u001b[0m \u001b[0mpickle\u001b[0m\u001b[1;33m.\u001b[0m\u001b[0mload\u001b[0m\u001b[1;33m(\u001b[0m\u001b[0mopen\u001b[0m\u001b[1;33m(\u001b[0m\u001b[1;34m'friends_count.pkl'\u001b[0m\u001b[1;33m,\u001b[0m \u001b[1;34m'rb'\u001b[0m\u001b[1;33m,\u001b[0m\u001b[0mprotocol\u001b[0m\u001b[1;33m=\u001b[0m\u001b[1;36m2\u001b[0m\u001b[1;33m)\u001b[0m\u001b[1;33m)\u001b[0m\u001b[1;33m\u001b[0m\u001b[0m\n\u001b[0m\u001b[1;32m      3\u001b[0m \u001b[0mfollowers_list\u001b[0m \u001b[1;33m=\u001b[0m \u001b[0mpickle\u001b[0m\u001b[1;33m.\u001b[0m\u001b[0mload\u001b[0m\u001b[1;33m(\u001b[0m\u001b[0mopen\u001b[0m\u001b[1;33m(\u001b[0m\u001b[1;34m'followers_list.pkl'\u001b[0m\u001b[1;33m,\u001b[0m \u001b[1;34m'rb'\u001b[0m\u001b[1;33m,\u001b[0m\u001b[0mprotocol\u001b[0m\u001b[1;33m=\u001b[0m\u001b[1;36m2\u001b[0m\u001b[1;33m)\u001b[0m\u001b[1;33m)\u001b[0m\u001b[1;33m\u001b[0m\u001b[0m\n\u001b[1;32m      4\u001b[0m \u001b[0mfavourites_list\u001b[0m \u001b[1;33m=\u001b[0m \u001b[0mpickle\u001b[0m\u001b[1;33m.\u001b[0m\u001b[0mload\u001b[0m\u001b[1;33m(\u001b[0m\u001b[0mopen\u001b[0m\u001b[1;33m(\u001b[0m\u001b[1;34m'favourites_list.pkl'\u001b[0m\u001b[1;33m,\u001b[0m \u001b[1;34m'rb'\u001b[0m\u001b[1;33m,\u001b[0m\u001b[0mprotocol\u001b[0m\u001b[1;33m=\u001b[0m\u001b[1;36m2\u001b[0m\u001b[1;33m)\u001b[0m\u001b[1;33m)\u001b[0m\u001b[1;33m\u001b[0m\u001b[0m\n\u001b[1;32m      5\u001b[0m \u001b[0mstatuses_list\u001b[0m \u001b[1;33m=\u001b[0m \u001b[0mpickle\u001b[0m\u001b[1;33m.\u001b[0m\u001b[0mload\u001b[0m\u001b[1;33m(\u001b[0m\u001b[0mopen\u001b[0m\u001b[1;33m(\u001b[0m\u001b[1;34m'statuses_list.pkl'\u001b[0m\u001b[1;33m,\u001b[0m \u001b[1;34m'rb'\u001b[0m\u001b[1;33m,\u001b[0m\u001b[0mprotocol\u001b[0m\u001b[1;33m=\u001b[0m\u001b[1;36m2\u001b[0m\u001b[1;33m)\u001b[0m\u001b[1;33m)\u001b[0m\u001b[1;33m\u001b[0m\u001b[0m\n",
      "\u001b[0;31mTypeError\u001b[0m: 'protocol' is an invalid keyword argument for this function"
     ]
    }
   ],
   "source": [
    "#pickles\n",
    "friends_list = pickle.load(open('friends_count.pkl', 'rb',))\n",
    "followers_list = pickle.load(open('followers_list.pkl', 'rb'))\n",
    "favourites_list = pickle.load(open('favourites_list.pkl', 'rb'))\n",
    "statuses_list = pickle.load(open('statuses_list.pkl', 'rb'))"
   ]
  },
  {
   "cell_type": "code",
   "execution_count": 46,
   "metadata": {
    "collapsed": false
   },
   "outputs": [
    {
     "name": "stdout",
     "output_type": "stream",
     "text": [
      "Sai Krishna\n",
      "Invest in Yourself\n",
      "0\n",
      "Guntakal\n",
      "3187\n"
     ]
    }
   ],
   "source": [
    "#['created_at','statuses_count','followers_count','favourites_count','sex_code','lang_code']\n",
    "\n",
    "#1.scraping username section\n",
    "#gmql0nx0.l94mrbxd.p1ri9a11.lzcic4wl.bp9cbjyn.j83agx80\n",
    "elems = driver.find_elements_by_class_name(\"gmql0nx0.l94mrbxd.p1ri9a11.lzcic4wl.bp9cbjyn.j83agx80\")\n",
    "username = elems[0].text\n",
    "print username\n",
    "\n",
    "#2.scraping bio section\n",
    "#d2edcug0 hpfvmrgz qv66sw1b c1et5uql lr9zc1uh a8c37x1j keod5gw0 nxhoafnm aigsh9s9 d3f4x2em fe6kdd0r mau55g9w c8b282yb mdeji52x a5q79mjw g1cxx5fr knj5qynh m9osqain oqcyycmt\n",
    "elems = driver.find_elements_by_class_name(\"d2edcug0.hpfvmrgz.qv66sw1b.c1et5uql.lr9zc1uh.a8c37x1j.keod5gw0.nxhoafnm.aigsh9s9.d3f4x2em.fe6kdd0r.mau55g9w.c8b282yb.mdeji52x.a5q79mjw.g1cxx5fr.knj5qynh.m9osqain.oqcyycmt\")\n",
    "bio = elems[0].text\n",
    "print bio\n",
    "\n",
    "#3.scraping friends count\n",
    "#d2edcug0 hpfvmrgz qv66sw1b c1et5uql lr9zc1uh e9vueds3 j5wam9gi knj5qynh m9osqain\n",
    "#d2edcug0 hpfvmrgz qv66sw1b c1et5uql lr9zc1uh a8c37x1j keod5gw0 nxhoafnm aigsh9s9 d3f4x2em fe6kdd0r mau55g9w c8b282yb iv3no6db jq4qci2q a3bd9o3v lrazzd5p m9osqain\n",
    "elems = driver.find_elements_by_class_name(\"d2edcug0.hpfvmrgz.qv66sw1b.c1et5uql.lr9zc1uh.a8c37x1j.keod5gw0.nxhoafnm.aigsh9s9.d3f4x2em.fe6kdd0r.mau55g9w.c8b282yb.iv3no6db.jq4qci2q.a3bd9o3v.lrazzd5p.m9osqain\")\n",
    "friend_count = elems[2].text\n",
    "if str(friend_count[-1])!='s':\n",
    "    friend_count = int(str(friend_count[-1]))\n",
    "else:\n",
    "    friend_count = 0\n",
    "print friend_count\n",
    "\n",
    "#4.scraping location\n",
    "#oajrlxb2 g5ia77u1 qu0x051f esr5mh6w e9989ue4 r7d6kgcz rq0escxv nhd2j8a9 nc684nl6 p7hjln8o kvgmc6g5 cxmmr5t8 oygrvhab hcukyx3x jb3vyjys rz4wbd8a qt6c0cv9 a8nywdso i1ao9s8h esuyzwwr f1sip0of lzcic4wl oo9gr5id gpro0wi8 lrazzd5p\n",
    "elems = driver.find_elements_by_class_name(\"oajrlxb2.g5ia77u1.qu0x051f.esr5mh6w.e9989ue4.r7d6kgcz.rq0escxv.nhd2j8a9.nc684nl6.p7hjln8o.kvgmc6g5.cxmmr5t8.oygrvhab.hcukyx3x.jb3vyjys.rz4wbd8a.qt6c0cv9.a8nywdso.i1ao9s8h.esuyzwwr.f1sip0of.lzcic4wl.oo9gr5id.gpro0wi8.lrazzd5p\")\n",
    "location = elems[2].text\n",
    "print location\n",
    "\n",
    "#5.scraping created_at\n",
    "#d2edcug0 hpfvmrgz qv66sw1b c1et5uql lr9zc1uh a8c37x1j keod5gw0 nxhoafnm aigsh9s9 d3f4x2em fe6kdd0r mau55g9w c8b282yb iv3no6db jq4qci2q a3bd9o3v knj5qynh oo9gr5id hzawbc8m\n",
    "elems = driver.find_elements_by_class_name(\"d2edcug0.hpfvmrgz.qv66sw1b.c1et5uql.lr9zc1uh.a8c37x1j.keod5gw0.nxhoafnm.aigsh9s9.d3f4x2em.fe6kdd0r.mau55g9w.c8b282yb.iv3no6db.jq4qci2q.a3bd9o3v.knj5qynh.oo9gr5id.hzawbc8m\")\n",
    "created_at = elems[7].text\n",
    "created_at = '01 '+created_at[10:]\n",
    "created_date = datetime.datetime.strptime(datetime.datetime.strptime(created_at, '%d %B %Y').strftime('%m %d %Y'),'%m %d %Y')\n",
    "today =  datetime.datetime.strptime(datetime.datetime.now().strftime('%m %d %Y'),'%m %d %Y') \n",
    "days_count = today - created_date\n",
    "days_count = days_count.days\n",
    "print days_count\n",
    "\n",
    "#scraping "
   ]
  },
  {
   "cell_type": "code",
   "execution_count": 6,
   "metadata": {
    "collapsed": false
   },
   "outputs": [
    {
     "name": "stdout",
     "output_type": "stream",
     "text": [
      "\n",
      "Photos\n",
      "Guntakal\n"
     ]
    }
   ],
   "source": [
    "\n",
    "\n",
    "#scraping location \n",
    "\n",
    "print location"
   ]
  },
  {
   "cell_type": "code",
   "execution_count": 7,
   "metadata": {
    "collapsed": false
   },
   "outputs": [
    {
     "name": "stdout",
     "output_type": "stream",
     "text": [
      "0\n",
      "'element found with tag value = '\n",
      "1\n",
      "'element found with tag value = National Institute of Technology Calicut'\n",
      "2\n",
      "'element found with tag value = National Institute of Technology Calicut'\n",
      "3\n",
      "'element found with tag value = S.V.University, Tirupati.'\n",
      "4\n",
      "'element found with tag value = S.V.University, Tirupati.'\n",
      "5\n",
      "'element found with tag value = Guntakal'\n",
      "6\n",
      "'element found with tag value = Guntakal'\n",
      "7\n",
      "'element found with tag value = Guntakal'\n",
      "8\n",
      "'element found with tag value = Guntakal'\n",
      "9\n",
      "'element found with tag value = Photos'\n",
      "10\n",
      "'element found with tag value = Friends'\n",
      "11\n",
      "'element found with tag value = Life events'\n",
      "12\n",
      "'element found with tag value = Privacy\n",
      "  · Terms\n",
      "  · Advertising\n",
      "  · Ad choices\n",
      "  · Cookies\n",
      "  · More\n",
      "  ·'\n",
      "13\n",
      "'element found with tag value = Privacy\n",
      "  ·'\n",
      "14\n",
      "'element found with tag value = Privacy'\n",
      "15\n",
      "'element found with tag value = Terms\n",
      "  ·'\n",
      "16\n",
      "'element found with tag value = Terms'\n",
      "17\n",
      "'element found with tag value = Advertising\n",
      "  ·'\n",
      "18\n",
      "'element found with tag value = Advertising'\n",
      "19\n",
      "'element found with tag value = Ad choices\n",
      "  ·'\n",
      "20\n",
      "'element found with tag value = Ad choices'\n",
      "21\n",
      "'element found with tag value = Cookies\n",
      "  ·'\n",
      "22\n",
      "'element found with tag value = Cookies'\n",
      "23\n",
      "'element found with tag value = More\n",
      "  ·'\n",
      "24\n",
      "'element found with tag value = More'\n",
      "25\n",
      "'element found with tag value = '\n",
      "26\n",
      "'element found with tag value = '\n",
      "27\n",
      "'element found with tag value = Sai Krishna'\n",
      "28\n",
      "'element found with tag value = Sai Krishna'\n",
      "29\n",
      "'element found with tag value = 3 March'\n",
      "30\n",
      "'element found with tag value = '\n",
      "Advertising\n"
     ]
    }
   ],
   "source": [
    "location_elems = driver.find_elements_by_class_name(\"nc684nl6\")\n",
    "i=0\n",
    "for elem in elems:\n",
    "    tag_value = elem.text # get text of an element\n",
    "    print i\n",
    "    print(\"'element found with tag value = \"+ tag_value + \"'\")\n",
    "    i=i+1\n",
    "location = location_elems[18].text\n",
    "print location"
   ]
  },
  {
   "cell_type": "code",
   "execution_count": null,
   "metadata": {
    "collapsed": true
   },
   "outputs": [],
   "source": []
  },
  {
   "cell_type": "code",
   "execution_count": null,
   "metadata": {
    "collapsed": true
   },
   "outputs": [],
   "source": []
  },
  {
   "cell_type": "code",
   "execution_count": null,
   "metadata": {
    "collapsed": true
   },
   "outputs": [],
   "source": []
  }
 ],
 "metadata": {
  "kernelspec": {
   "display_name": "Python 2",
   "language": "python",
   "name": "python2"
  }
 },
 "nbformat": 4,
 "nbformat_minor": 2
}
