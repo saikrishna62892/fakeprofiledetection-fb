{
 "cells": [
  {
   "cell_type": "code",
   "execution_count": 1,
   "metadata": {
    "collapsed": true
   },
   "outputs": [],
   "source": [
    "#imports here\n",
    "from selenium import webdriver\n",
    "from selenium.webdriver.common.keys import Keys\n",
    "from selenium.webdriver.support import expected_conditions as EC\n",
    "from selenium.webdriver.common.by import By\n",
    "from selenium.webdriver.support.wait import WebDriverWait\n",
    "import sexmachine.detector as gender\n",
    "import pandas as pd\n",
    "import time\n",
    "import datetime\n",
    "import pickle\n",
    "import random"
   ]
  },
  {
   "cell_type": "code",
   "execution_count": 2,
   "metadata": {
    "collapsed": true
   },
   "outputs": [],
   "source": [
    "#code by pythonjar, not me\n",
    "chrome_options = webdriver.ChromeOptions()\n",
    "prefs = {\"profile.default_content_setting_values.notifications\" : 2}\n",
    "chrome_options.add_experimental_option(\"prefs\",prefs)"
   ]
  },
  {
   "cell_type": "code",
   "execution_count": 3,
   "metadata": {
    "collapsed": false
   },
   "outputs": [
    {
     "data": {
      "text/plain": [
       "\"\\nurl='https://www.facebook.com/saikrishna62892/'\\ndriver.get(url)\\ntime.sleep(2)\\nhtml = driver.page_source\\ndf = pd.DataFrame([html])\\ndf.to_clipboard(index=False,header=False)\\n\""
      ]
     },
     "execution_count": 3,
     "metadata": {},
     "output_type": "execute_result"
    }
   ],
   "source": [
    "'''\n",
    "url='https://www.facebook.com/saikrishna62892/'\n",
    "driver.get(url)\n",
    "time.sleep(2)\n",
    "html = driver.page_source\n",
    "df = pd.DataFrame([html])\n",
    "df.to_clipboard(index=False,header=False)\n",
    "'''"
   ]
  },
  {
   "cell_type": "code",
   "execution_count": 4,
   "metadata": {
    "collapsed": false
   },
   "outputs": [
    {
     "name": "stderr",
     "output_type": "stream",
     "text": [
      "C:\\Users\\vamsi\\Anaconda2\\lib\\site-packages\\ipykernel\\__main__.py:5: DeprecationWarning: use options instead of chrome_options\n"
     ]
    }
   ],
   "source": [
    "import pandas as pd\n",
    "\n",
    "\n",
    "#specify the path to chromedriver.exe (download and save on your computer)\n",
    "driver = webdriver.Chrome('C:/Users/vamsi/chromedriver.exe', chrome_options=chrome_options)\n",
    "\n",
    "#open the webpage\n",
    "driver.get(\"http://www.facebook.com\")\n",
    "\n",
    "#target username\n",
    "username = WebDriverWait(driver, 10).until(EC.element_to_be_clickable((By.CSS_SELECTOR, \"input[name='email']\")))\n",
    "password = WebDriverWait(driver, 10).until(EC.element_to_be_clickable((By.CSS_SELECTOR, \"input[name='pass']\")))\n",
    "\n",
    "#enter username and password\n",
    "username.clear()\n",
    "username.send_keys(\"9490461737\")\n",
    "password.clear()\n",
    "password.send_keys(\"Facebook@62892\")\n",
    "\n",
    "#target the login button and click it\n",
    "button = WebDriverWait(driver, 2).until(EC.element_to_be_clickable((By.CSS_SELECTOR, \"button[type='submit']\"))).click()\n",
    "time.sleep(10)\n",
    "\n",
    "#We are logged in!\n",
    "url='https://www.facebook.com/saikrishna62892/'\n",
    "driver.get(url)\n",
    "time.sleep(10)\n",
    "html = driver.page_source\n",
    "#df = pd.DataFrame([html])\n",
    "#df.to_clipboard(index=False,header=False)"
   ]
  },
  {
   "cell_type": "code",
   "execution_count": 5,
   "metadata": {
    "collapsed": false
   },
   "outputs": [],
   "source": [
    "#pickles\n",
    "friends_list = pickle.load(open('friends_count.pkl', 'rb',))\n",
    "followers_list = pickle.load(open('followers_count.pkl', 'rb'))\n",
    "favourites_list = pickle.load(open('favourites_count.pkl', 'rb'))\n",
    "statuses_list = pickle.load(open('statuses_count.pkl', 'rb'))\n",
    "location_dict = pickle.load(open('location_dict_scraper.pkl', 'rb'))"
   ]
  },
  {
   "cell_type": "code",
   "execution_count": 6,
   "metadata": {
    "collapsed": false
   },
   "outputs": [
    {
     "name": "stdout",
     "output_type": "stream",
     "text": [
      "0\n",
      "Invest in Yourself\n",
      "1039\n",
      "324\n",
      "207\n",
      "136\n",
      "1680\n",
      "3187\n"
     ]
    }
   ],
   "source": [
    "#['created_at','statuses_count','followers_count','favourites_count','sex_code','lang_code']\n",
    "\n",
    "#1.scraping username section\n",
    "#gmql0nx0.l94mrbxd.p1ri9a11.lzcic4wl.bp9cbjyn.j83agx80\n",
    "elems = driver.find_elements_by_class_name(\"gmql0nx0.l94mrbxd.p1ri9a11.lzcic4wl.bp9cbjyn.j83agx80\")\n",
    "username = elems[0].text\n",
    "username = pd.Series(username)\n",
    "#predicting sex\n",
    "sex_predictor = gender.Detector(unknown_value=u\"unknown\",case_sensitive=False)\n",
    "first_name= username.str.split(' ').str.get(0)\n",
    "sex= first_name.apply(sex_predictor.get_gender)\n",
    "sex_dict={'female': -2, 'mostly_female': -1,'unknown':0,'mostly_male':1, 'male': 2}\n",
    "sex_code = sex.map(sex_dict).astype(int)\n",
    "print sex_code[0]\n",
    "\n",
    "#2.scraping bio section\n",
    "#d2edcug0 hpfvmrgz qv66sw1b c1et5uql lr9zc1uh a8c37x1j keod5gw0 nxhoafnm aigsh9s9 d3f4x2em fe6kdd0r mau55g9w c8b282yb mdeji52x a5q79mjw g1cxx5fr knj5qynh m9osqain oqcyycmt\n",
    "elems = driver.find_elements_by_class_name(\"d2edcug0.hpfvmrgz.qv66sw1b.c1et5uql.lr9zc1uh.a8c37x1j.keod5gw0.nxhoafnm.aigsh9s9.d3f4x2em.fe6kdd0r.mau55g9w.c8b282yb.mdeji52x.a5q79mjw.g1cxx5fr.knj5qynh.m9osqain.oqcyycmt\")\n",
    "bio = elems[0].text\n",
    "print bio\n",
    "\n",
    "#3.scraping friends count,statuses_count,followers_count,favourites_count\n",
    "#d2edcug0 hpfvmrgz qv66sw1b c1et5uql lr9zc1uh e9vueds3 j5wam9gi knj5qynh m9osqain\n",
    "#d2edcug0 hpfvmrgz qv66sw1b c1et5uql lr9zc1uh a8c37x1j keod5gw0 nxhoafnm aigsh9s9 d3f4x2em fe6kdd0r mau55g9w c8b282yb iv3no6db jq4qci2q a3bd9o3v lrazzd5p m9osqain\n",
    "elems = driver.find_elements_by_class_name(\"d2edcug0.hpfvmrgz.qv66sw1b.c1et5uql.lr9zc1uh.a8c37x1j.keod5gw0.nxhoafnm.aigsh9s9.d3f4x2em.fe6kdd0r.mau55g9w.c8b282yb.iv3no6db.jq4qci2q.a3bd9o3v.lrazzd5p.m9osqain\")\n",
    "friend_count = elems[2].text\n",
    "if str(friend_count[-1])!='s':\n",
    "    friend_count = int(str(friend_count[-1]))\n",
    "else:\n",
    "    friend_count = random.choice(friends_list)\n",
    "print friend_count\n",
    "#statuses_count\n",
    "statuses_count = random.choice(statuses_list)\n",
    "print statuses_count\n",
    "\n",
    "#followers_count\n",
    "followers_count = random.choice(followers_list)\n",
    "print followers_count\n",
    "\n",
    "#favourites_count\n",
    "favourites_count = random.choice(favourites_list)\n",
    "print favourites_count\n",
    "\n",
    "#4.scraping location\n",
    "#oajrlxb2 g5ia77u1 qu0x051f esr5mh6w e9989ue4 r7d6kgcz rq0escxv nhd2j8a9 nc684nl6 p7hjln8o kvgmc6g5 cxmmr5t8 oygrvhab hcukyx3x jb3vyjys rz4wbd8a qt6c0cv9 a8nywdso i1ao9s8h esuyzwwr f1sip0of lzcic4wl oo9gr5id gpro0wi8 lrazzd5p\n",
    "elems = driver.find_elements_by_class_name(\"oajrlxb2.g5ia77u1.qu0x051f.esr5mh6w.e9989ue4.r7d6kgcz.rq0escxv.nhd2j8a9.nc684nl6.p7hjln8o.kvgmc6g5.cxmmr5t8.oygrvhab.hcukyx3x.jb3vyjys.rz4wbd8a.qt6c0cv9.a8nywdso.i1ao9s8h.esuyzwwr.f1sip0of.lzcic4wl.oo9gr5id.gpro0wi8.lrazzd5p\")\n",
    "location = elems[2].text\n",
    "if location in location_dict:\n",
    "    location = location_dict[location]\n",
    "else:\n",
    "    location_dict[location]=len(location_dict)+1\n",
    "    location = location_dict[location]\n",
    "    pickle.dump(location_dict, open('location_dict_scraper.pkl','wb'),protocol=2)\n",
    "print location\n",
    "\n",
    "#5.scraping created_at\n",
    "#d2edcug0 hpfvmrgz qv66sw1b c1et5uql lr9zc1uh a8c37x1j keod5gw0 nxhoafnm aigsh9s9 d3f4x2em fe6kdd0r mau55g9w c8b282yb iv3no6db jq4qci2q a3bd9o3v knj5qynh oo9gr5id hzawbc8m\n",
    "elems = driver.find_elements_by_class_name(\"d2edcug0.hpfvmrgz.qv66sw1b.c1et5uql.lr9zc1uh.a8c37x1j.keod5gw0.nxhoafnm.aigsh9s9.d3f4x2em.fe6kdd0r.mau55g9w.c8b282yb.iv3no6db.jq4qci2q.a3bd9o3v.knj5qynh.oo9gr5id.hzawbc8m\")\n",
    "created_at = elems[7].text\n",
    "created_at = '01 '+created_at[10:]\n",
    "created_date = datetime.datetime.strptime(datetime.datetime.strptime(created_at, '%d %B %Y').strftime('%m %d %Y'),'%m %d %Y')\n",
    "today =  datetime.datetime.strptime(datetime.datetime.now().strftime('%m %d %Y'),'%m %d %Y') \n",
    "days_count = today - created_date\n",
    "days_count = days_count.days\n",
    "print days_count\n"
   ]
  },
  {
   "cell_type": "code",
   "execution_count": null,
   "metadata": {
    "collapsed": true
   },
   "outputs": [],
   "source": []
  },
  {
   "cell_type": "code",
   "execution_count": null,
   "metadata": {
    "collapsed": true
   },
   "outputs": [],
   "source": []
  },
  {
   "cell_type": "code",
   "execution_count": null,
   "metadata": {
    "collapsed": true
   },
   "outputs": [],
   "source": []
  }
 ],
 "metadata": {
  "kernelspec": {
   "display_name": "Python 2",
   "language": "python",
   "name": "python2"
  },
  "language_info": {
   "codemirror_mode": {
    "name": "ipython",
    "version": 2
   },
   "file_extension": ".py",
   "mimetype": "text/x-python",
   "name": "python",
   "nbconvert_exporter": "python",
   "pygments_lexer": "ipython2",
   "version": "2.7.13"
  }
 },
 "nbformat": 4,
 "nbformat_minor": 2
}
